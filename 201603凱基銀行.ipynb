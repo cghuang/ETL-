{
 "cells": [
  {
   "cell_type": "code",
   "execution_count": null,
   "metadata": {
    "collapsed": true
   },
   "outputs": [],
   "source": []
  },
  {
   "cell_type": "code",
   "execution_count": 46,
   "metadata": {
    "collapsed": false
   },
   "outputs": [
    {
     "name": "stdout",
     "output_type": "stream",
     "text": [
      "Q1 : 開戶前需要準備什麼證件呢？\n",
      "Q2 : 可以幫未成年子女線上開戶嗎？\n",
      "Q3 : 線上開戶APP支援那些手機作業平台？\n",
      "Q4 : 我要怎麼查詢目前的開戶進度？\n",
      "Q5 : 線上開戶進行到一半，突然因事中斷，資料是否要重填？\n",
      "Q6 : 我要怎麼確認我已完成開戶？\n",
      "A1 : \n",
      "1.國民身分證。2.附照片之第二證件，ex：健保卡或駕照。3.自然人憑證或證券憑證。\n",
      "A2 : \n",
      "目前線上開戶只開放本國成年自然人辦理，暫不接受法人及代理人開戶，若欲開戶請至本行全台服務據點臨櫃辦理。\n",
      "A3 : \n",
      "線上開戶APP支援Android手機及iPhone手機。\n",
      "A4 : \n",
      "您可以在線上開戶App中查詢開戶進度。\n",
      "A5 : \n",
      "線上開戶App會將您填寫的資料記錄在手機中，下次開啟App時可直接從中斷的步驟繼續完成。\n",
      "A6 : \n",
      "待您完成所有線上開戶手續並經本行審核完成後，系統將會自動發送e-mail通知您，並以郵寄方式寄送金融卡、金融卡密碼及網銀密碼函給您。\n"
     ]
    }
   ],
   "source": [
    "#線上開戶\n",
    "import requests\n",
    "from bs4 import BeautifulSoup\n",
    "url = 'https://www.kgibank.com/T10/T1010/T1010_0005.html'\n",
    "res = requests.get(url)\n",
    "soup = BeautifulSoup(res.text)\n",
    "\n",
    "div = soup.select('.text_title')\n",
    "\n",
    "div2 = soup.select('.text_01')\n",
    "\n",
    "k=1\n",
    "for kgi in div:\n",
    "    print 'Q{} : '.format(k) + kgi.text\n",
    "    k +=1\n",
    "\n",
    "    \n",
    "k=1    \n",
    "for kgi2 in div2:\n",
    "    print 'A{} : '.format(k)\n",
    "    print kgi2.text.strip()\n",
    "    k +=1"
   ]
  },
  {
   "cell_type": "code",
   "execution_count": 50,
   "metadata": {
    "collapsed": false
   },
   "outputs": [
    {
     "name": "stdout",
     "output_type": "stream",
     "text": [
      "Q1：請問行動支付X卡服務的內容及特色為何？\n",
      "Q2：行動支付X卡服務可到哪裡辦理？辦理需要費用？\n",
      "Q3：使用行動支付X卡服務的消費如何扣款？\n",
      "Q4：使用行動支付X卡服務消費扣款，是否需額外負擔手續費？\n",
      "Q5：行動支付X卡服務消費紀錄可以在哪裡查詢？\n",
      "Q6：何處可查詢行動支付X卡服務可使用之店家？\n",
      "Q7：使用行動支付X卡服務時，如連續輸入密碼錯誤三次後鎖卡應如何處理？\n",
      "Q8：如何辦理行動支付X卡掛失手續？如掛失後尋獲，如何解除掛失？\n",
      "Q9：如更換手機號碼，應如何處理？\n",
      "A1 : \n",
      "本服務即是透過您的智慧型手機做為消費時的支付工具，只要您的智慧型手機可上網並具備microSD之插槽，即可安裝本服務所需之行動支付X卡，啟用後 即可透過手機進入本服務合作之商家App辦理消費時之現金轉帳或信用卡支付服務。(適用之智慧型手機作業系統請參閱本行網站公告，或撥打24小時客服專線 查詢，上網資費由各電信行動業者收取)\n",
      "A2 : \n",
      "您可選擇親洽本行任一分行、填寫本行信用卡申請書或於本行官網直接下載申請書方式辦理，申辦不需支付任何費用。\n",
      "A3 : \n",
      "使用本服務消費扣款時，可選擇本行活期存款帳戶或本行信用卡任一方式進行扣款。故申辦時須先約定連結一組本行活期性存款帳戶，或一組本行信用卡卡號，建議您可同時申辦並完成約定連結，方便日後消費時可擇一進行消費扣款。\n",
      "A4 : \n",
      "消費者進行一般消費扣款不需負擔手續費，惟若涉及退貨、配送等則須依您交易商店之約定辦理。\n",
      "A5 : \n",
      "查詢即時的消費紀錄可撥打24小時客服專線。本行將每月依您使用的消費扣款方式，分別提供不同對帳單（如：使用本行活期性帳戶之消費扣款紀錄將列於每月寄出之綜合對帳單，若使用本行信用卡之刷卡消費紀錄將列於每月寄出之信用卡帳單。)\n",
      "A6 : \n",
      "可從本行網站查詢，也可撥打24小時客服專線查詢。\n",
      "A7 : \n",
      "請持卡人本人或公司行號負責人攜帶身分證正本(公司行號另須提供核准設立之證明文件)、原留存印鑑及「行動支付X卡」至本行任一分行辦理解鎖。\n",
      "A8 : \n",
      "請撥打24小時客服專線或攜帶身分證正本(公司行號另須提供核准設立之證明文件)親至本行任一分行辦理掛失。完成掛失手續後如尋回原卡，請由持卡人本人或公司行號負責人攜帶身分證正本(公司行號另須提供核准設立之證明文件)、原留存印鑑及尋回之原卡至本行任一分行辦理解除掛失。\n",
      "A9 : \n",
      "為確保使用本服務之消費扣款成功簡訊能傳達給您，請撥打24小時客服專線進入本行「電話／網路銀行」輸入密碼後辦理變更。若未申請「電話／網路銀行」功能，請持卡人本人或公司行號負責人攜帶身分證正本(公司行號另須提供核准設立之證明文件)及原留存印鑑至本行任一分行辦理。\n"
     ]
    }
   ],
   "source": [
    "#行動支付X卡服務\n",
    "\n",
    "import requests\n",
    "from bs4 import BeautifulSoup\n",
    "url = 'https://www.kgibank.com/T10/T1003/T1003_0003.html'\n",
    "res = requests.get(url)\n",
    "soup = BeautifulSoup(res.text)\n",
    "\n",
    "div = soup.select('.text_title')\n",
    "\n",
    "div2 = soup.select('.text_01')\n",
    "\n",
    "k=1\n",
    "for kgi in div:\n",
    "    print  kgi.text\n",
    "    k +=1\n",
    "\n",
    "    \n",
    "k=1    \n",
    "for kgi2 in div2:\n",
    "    print 'A{} : '.format(k)\n",
    "    print kgi2.text.strip()\n",
    "    k +=1"
   ]
  },
  {
   "cell_type": "code",
   "execution_count": 51,
   "metadata": {
    "collapsed": false
   },
   "outputs": [
    {
     "name": "stdout",
     "output_type": "stream",
     "text": [
      "Q1 : 網路商店消費\n",
      "Q2 : 於叫車通(計程車)服務消費\n",
      "A1 : \n",
      "消費結帳時，選擇「 QR扣」付款，即會出現該筆消費之QR code圖像開啟您手機內之「 QR扣」App用「 QR扣」App內之拍照功能拍攝該消費之QR code圖像依「 QR扣」App內說明完成消費\n",
      "A2 : \n",
      "開啟「叫車通」 App，點擊「刷卡付車資」輸入司機車號，依畫面指示輸入司機車號與金額等資訊選擇「 中華電信電子錢包」「 QR扣」App將自動開啟，依畫面指示完成消費\n"
     ]
    }
   ],
   "source": [
    "#QR扣行動支付\n",
    "\n",
    "import requests\n",
    "from bs4 import BeautifulSoup\n",
    "url = 'https://www.kgibank.com/T10/T1005/T1005_0003.html'\n",
    "res = requests.get(url)\n",
    "soup = BeautifulSoup(res.text)\n",
    "\n",
    "div = soup.select('.text_title')\n",
    "\n",
    "div2 = soup.select('.text_01')\n",
    "\n",
    "k=1\n",
    "for kgi in div:\n",
    "    print 'Q{} : '.format(k) + kgi.text\n",
    "    k +=1\n",
    "\n",
    "    \n",
    "k=1    \n",
    "for kgi2 in div2:\n",
    "    print 'A{} : '.format(k)\n",
    "    print kgi2.text.strip()\n",
    "    k +=1"
   ]
  },
  {
   "cell_type": "code",
   "execution_count": 54,
   "metadata": {
    "collapsed": false
   },
   "outputs": [
    {
     "name": "stdout",
     "output_type": "stream",
     "text": [
      "Q1 : 什麼是手機信用卡？\n",
      "Q2 : 如何申請手機信用卡？\n",
      "Q3 : 申請手機信用卡與電信門號必須是同一人嗎？\n",
      "Q4 : 一個人可以申辦幾張手機信用卡？\n",
      "Q5 : 下載密碼、交易密碼輸入錯誤如何解鎖？\n",
      "Q6 : 我的手機不見了怎麼辦？\n",
      "A1 : \n",
      "手機信用卡顧名思義就是手機具有信用卡的功能，銀行將現行信用卡卡片資料透過空中下載(OTA)方式存放至智慧型手機的SIM卡中，使智慧型手機能有感應式信用卡之交易功能。\n",
      "A2 : \n",
      "尚未申請凱基銀行現金回饋悠遊鈦金卡者：可親洽本行任一分行填寫本行信用卡申請書或於本行官網直接下載申請書方式辦理。(下載申請書)已持有凱基銀行現金回饋I悠遊鈦金卡者：於本行官網直接下載「凱基銀行NFC手機信用卡申請/異動書」後以傳真或郵寄方式辦理。(下載申請書)\n",
      "A3 : \n",
      "是的，手機信用卡與電信門號持有者必須是同一人，若門號是登記在公司行號或家人的名下，則無法受理。\n",
      "A4 : \n",
      "目前開放一人申請一張信用卡，後續若有開放一門號可申請多卡將另行通知。\n",
      "A5 : \n",
      "超過5次輸入錯誤密碼即無法下載或卡片鎖住，需來電本行客服進行解鎖，方可重新下載、設定卡片。\n",
      "A6 : \n",
      "請立即致電本行客服專線辦理手機信用卡掛失停用，並同時向您的電信服務商申請掛失NFC SIM卡。本行會將您存於NFC SIM之手機信用卡資料掛失，但不影響您手中的實體卡片使用，您若同意補發卡片，本行將酌收手機信用卡補發費用新台幣200元整，待您與電信服務商申請NFC SIM卡補發後，屆時再請您至「數位錢包」下載您的信用卡。\n"
     ]
    }
   ],
   "source": [
    "#手機信用卡\n",
    "\n",
    "import requests\n",
    "from bs4 import BeautifulSoup\n",
    "url = 'https://www.kgibank.com/T10/T1006/T1006_0003.html'\n",
    "res = requests.get(url)\n",
    "soup = BeautifulSoup(res.text)\n",
    "\n",
    "#print soup\n",
    "div = soup.select('.text_title')\n",
    "#print div\n",
    "div2 = soup.select('.text_01')\n",
    "\n",
    "k=1\n",
    "for kgi in div:\n",
    "    print 'Q{} : '.format(k) + kgi.text\n",
    "    k +=1\n",
    "\n",
    "    \n",
    "k=1    \n",
    "for kgi2 in div2:\n",
    "    print 'A{} : '.format(k)\n",
    "    print kgi2.text.strip()\n",
    "    k +=1"
   ]
  },
  {
   "cell_type": "code",
   "execution_count": 49,
   "metadata": {
    "collapsed": true
   },
   "outputs": [
    {
     "name": "stdout",
     "output_type": "stream",
     "text": [
      "Q1 : 什麼是行動金融卡？\n",
      "Q2 : 如何申請行動金融卡？\n",
      "Q3 : 申請行動金融卡與電信門號必須是同一人嗎？\n",
      "Q4 : 一個人可以申辦幾張行動金融卡？\n",
      "Q5 : 行動金融卡交易密碼輸入錯誤如何處理？\n",
      "Q6 : 我的手機可不可以下載使用行動金融卡？\n",
      "Q7 : 我的手機不見了怎麼辦？\n",
      "A1 : \n",
      "行動金融卡顧名思義就是手機具有金融卡的功能，銀行將現行金融卡卡片資料透過空中下載(OTA)方式存放至智慧型手機的SIM卡中，使智慧型手機能有感應式金融卡之交易功能。\n",
      "A2 : \n",
      "申請行動金融卡之客戶必須持有本行實體金融卡A.尚未持有凱基銀行活期儲蓄存款帳戶者：可親洽本行任一分行開立活期儲蓄存款帳戶申請實體ATM卡，並另填寫行動金融卡申請書辦理。B.已持有凱基銀行實體金融卡者：可攜帶雙證件及原留印鑑親洽本行任一分行填寫行動金融卡申請書辦理。\n",
      "A3 : \n",
      "是的，行動金融卡與電信門號持有者必須是同一人，若門號是登記在公司行號或家人的名下，則無法受理。\n",
      "A4 : \n",
      "目前開放一人申請一張，後續若有開放一門號可申請多卡將另行通知。\n",
      "A5 : \n",
      "超過3次輸入錯誤密碼此行動金融卡將註銷，需至本行臨櫃重新申請補發新卡。\n",
      "A6 : \n",
      "申請人須持有具NFC（Near Field Communication，近端感應無線通訊技術）功能及網路連結性(3G以上者)之智慧型手機。目前twMP公司已將測試通過的手機品牌機型公布於網站上，可於http://www.twmp.com.tw/phone.html查看。\n",
      "A7 : \n",
      "請立即致電本行客服專線辦理行動金融卡掛失停用，並同時向您的電信服務商申請掛失NFC SIM卡。本行會將您存於NFC SIM之行動金融卡資料掛失，但不影響您手中的實體卡片使用，您若同意補發卡片，本行將酌收行動金融卡補發費用新台幣100元整，待您與電信服務商申請NFC SIM卡補發後，屆時再請您至「t Wallet數位皮夾」下載您的行動金融卡。\n"
     ]
    }
   ],
   "source": [
    "#行動金融卡\n",
    "\n",
    "import requests\n",
    "from bs4 import BeautifulSoup\n",
    "url = 'https://www.kgibank.com/T10/T1007/T1007_0003.html'\n",
    "res = requests.get(url)\n",
    "soup = BeautifulSoup(res.text)\n",
    "\n",
    "#print soup\n",
    "div = soup.select('.text_title')\n",
    "#print div\n",
    "div2 = soup.select('.text_01')\n",
    "\n",
    "k=1\n",
    "for kgi in div:\n",
    "    print 'Q{} : '.format(k) + kgi.text\n",
    "    k +=1\n",
    "\n",
    "    \n",
    "k=1    \n",
    "for kgi2 in div2:\n",
    "    print 'A{} : '.format(k)\n",
    "    print kgi2.text.strip()\n",
    "    k +=1"
   ]
  },
  {
   "cell_type": "code",
   "execution_count": 53,
   "metadata": {
    "collapsed": true
   },
   "outputs": [
    {
     "name": "stdout",
     "output_type": "stream",
     "text": [
      "Q1 : 什麼是行動金融卡？\n",
      "Q2 : 如何申請行動金融卡？\n",
      "Q3 : 申請行動金融卡與電信門號必須是同一人嗎？\n",
      "Q4 : 一個人可以申辦幾張行動金融卡？\n",
      "Q5 : 行動金融卡交易密碼輸入錯誤如何處理？\n",
      "Q6 : 我的手機可不可以下載使用行動金融卡？\n",
      "Q7 : 我的手機不見了怎麼辦？\n",
      "A1 : \n",
      "行動金融卡顧名思義就是手機具有金融卡的功能，銀行將現行金融卡卡片資料透過空中下載(OTA)方式存放至智慧型手機的SIM卡中，使智慧型手機能有感應式金融卡之交易功能。\n",
      "A2 : \n",
      "申請行動金融卡之客戶必須持有本行實體金融卡A.尚未持有凱基銀行活期儲蓄存款帳戶者：可親洽本行任一分行開立活期儲蓄存款帳戶申請實體ATM卡，並另填寫行動金融卡申請書辦理。B.已持有凱基銀行實體金融卡者：可攜帶雙證件及原留印鑑親洽本行任一分行填寫行動金融卡申請書辦理。\n",
      "A3 : \n",
      "是的，行動金融卡與電信門號持有者必須是同一人，若門號是登記在公司行號或家人的名下，則無法受理。\n",
      "A4 : \n",
      "目前開放一人申請一張，後續若有開放一門號可申請多卡將另行通知。\n",
      "A5 : \n",
      "超過3次輸入錯誤密碼此行動金融卡將註銷，需至本行臨櫃重新申請補發新卡。\n",
      "A6 : \n",
      "申請人須持有具NFC（Near Field Communication，近端感應無線通訊技術）功能及網路連結性(3G以上者)之智慧型手機。目前twMP公司已將測試通過的手機品牌機型公布於網站上，可於http://www.twmp.com.tw/phone.html查看。\n",
      "A7 : \n",
      "請立即致電本行客服專線辦理行動金融卡掛失停用，並同時向您的電信服務商申請掛失NFC SIM卡。本行會將您存於NFC SIM之行動金融卡資料掛失，但不影響您手中的實體卡片使用，您若同意補發卡片，本行將酌收行動金融卡補發費用新台幣100元整，待您與電信服務商申請NFC SIM卡補發後，屆時再請您至「t Wallet數位皮夾」下載您的行動金融卡。\n"
     ]
    }
   ],
   "source": [
    "#行動金融卡\n",
    "\n",
    "import requests\n",
    "from bs4 import BeautifulSoup\n",
    "url = 'https://www.kgibank.com/T10/T1007/T1007_0003.html'\n",
    "res = requests.get(url)\n",
    "soup = BeautifulSoup(res.text)\n",
    "\n",
    "#print soup\n",
    "div = soup.select('.text_title')\n",
    "#print div\n",
    "div2 = soup.select('.text_01')\n",
    "\n",
    "k=1\n",
    "for kgi in div:\n",
    "    print 'Q{} : '.format(k) + kgi.text\n",
    "    k +=1\n",
    "\n",
    "    \n",
    "k=1    \n",
    "for kgi2 in div2:\n",
    "    print 'A{} : '.format(k)\n",
    "    print kgi2.text.strip()\n",
    "    k +=1"
   ]
  },
  {
   "cell_type": "code",
   "execution_count": 45,
   "metadata": {
    "collapsed": true
   },
   "outputs": [
    {
     "name": "stdout",
     "output_type": "stream",
     "text": [
      "Q1 : 何謂票信管理新制？\n",
      "Q2 : 票信管理新制之內容與舊制有何不同？\n",
      "Q3 : 何時開始實施新制？\n",
      "Q4 : 配合新制實施，存戶須注意那些事項，以保權益？\n",
      "Q5 : 配合新制實施，執票人須注意那些事項，以保權益？\n",
      "Q6 : 配合新制實施，金融業者須注意那些事項，以服務客戶？ \n",
      "Q7 : 更多「票信管理新制之問與答」\n",
      "A1 : \n",
      "票信管理新制為票信管理之依據及內涵均與舊制有所不同之管理制度。其要旨如下：    1. 票信管理新制之依據係存戶與金融業者間之約定。此點有別於舊制之以行政命令加以規定。  2. 票信管理新制之重要內涵，係由票據交換所將存戶的退票紀錄等票據信用實況，以多種管道提供各方面查詢。因重在提供存戶票信實況，舊制於退票後七個營業日內清償贖回可以註銷退票紀錄之作法不再採用，而以註記制度予以取代。\n",
      "A2 : \n",
      "１.退票紀錄及註銷（註記)    新制（１） 退票後三年內清償贖回、提存備付或重提付訖者，均可由票據交換所「註記」其日期，但不註銷其紀錄。  （２） 「註記」資料，可提供查詢。   舊制（１） 退票後七個營業日內清償贖回、提存備付或重提付訖者，「註銷」其紀錄。  （２） 已「註銷」之退票紀錄（俗稱退補紀錄），不提供查詢。   ２.拒絕往來   新制（１） 一年內發生退票，未經辦理清償註記達三張，票據交換所即通報其為拒絕往來戶。  （２） 拒絕往來期間一律為三年；取消六年及永久拒絕往來的規定。   （３） 拒絕往來期間屆滿，或於屆滿前對於構成拒絕往來及其後發生的全部退票，已辦妥清償贖回、提存備付或重提付訖之註記者，均得申請恢復往來。   舊制（１） 一年內發生退票，未經辦理清償註銷達三張，票據交換所即公告其為拒絕往來戶。  （２） 一年內發生退票，未經辦理清償註銷達三張，拒絕往來期間為三年；超過三張，拒絕往來期間為六年；經兩次拒絕往來，應予永久拒絕往來。   （３） 拒絕往來期間屆滿，得申請恢復往來。   ３.票信查詢方式與內容   新制（１） 查詢方式：以書面、網際網路或電話語音等方式查詢。  （２） 查詢內容：書面與網際網路查詢，除提供被查詢者三年內全部列管的退票相關資料外，也提供清償贖回註記及退票的明細資料；但電話語音查詢則祇提供被查詢者有無拒絕往來，以及最近一年內存款不足退票與清償註記的張數。   舊制（１） 查詢方式：書面查詢。  （２） 查詢內容：提供有無拒絕往來及一年內未經註銷退票張數的一般查詢，或除提供前項資料外，另包括被查詢者關係戶資料的開戶徵信查詢。\n",
      "A3 : \n",
      "新制預定自九十年七月一日實施。但其前置作業包括存戶與往來金融業者間之約定事宜，則須於新制實施日期前完成。\n",
      "A4 : \n",
      "1. 須於接獲往來金融業者通知其確認是否同意支票存款約定書補充條款之後，詳閱該補充條款內容，並於要求之期間（通知到達之日起一個月）內回復，以避免逾期被終止原來支票存款往來契約。  2. 簽發票據須注意帳戶內有無足額存款，以避免發生退票，影響票信。因新制實施後，退票紀錄只能註記，不能註銷。   3. 萬一發生退票，其後有清償贖回等涉及票信之事實，須申請往來金融業者轉請票據交換所註記，以表明票信狀況有改善。\n",
      "A5 : \n",
      "執票人或即將收受票據之人，宜儘量利用票據交換所提供之資訊，以書面、網際網路或語音查詢發票人之票信資料，以保權益。\n",
      "A6 : \n",
      "1. 於新制實施之前，辦理支票存款業務之金融業者，應於與票據交換所簽訂辦理退票及拒絕往來相關事項約定書之日起一個月內，完成通知存戶，於通知到達之日起一個月內，確認是否同意支票存款約定書補充條款乙事。  2. 由於新制係以存戶與金融業者間之約定為主要依據之一，因此，金融業者於辦理上述通知時，應檢附該支票存款約定書補充條款，並儘量利用各種機會，善用各種方法，本服務客戶之熱忱，輔導存戶完成確認該補充條款之工作，包括： （１）解說補充條款之要旨。 （２）給予存戶五天以上之審閱期間。 （３）存戶確認時，須於該補充條款簽署。   3. 新制於九十年七月一日實施之後，對於申請支票存款往來之新開戶者，應輔導其同時簽訂支票存款約定書及支票存款約定書補充條款。\n",
      "A7 : \n",
      "更多「票信管理新制之問與答」請參閱 中央銀行業務局。\n"
     ]
    }
   ],
   "source": [
    "#支票存款\n",
    "\n",
    "import requests\n",
    "from bs4 import BeautifulSoup\n",
    "url = 'https://www.kgibank.com/T02/T0204/T0204_0004.html'\n",
    "res = requests.get(url)\n",
    "soup = BeautifulSoup(res.text)\n",
    "\n",
    "#print soup\n",
    "div = soup.select('.text_title')\n",
    "#print div\n",
    "div2 = soup.select('.text_01')\n",
    "\n",
    "k=1\n",
    "for kgi in div:\n",
    "    print 'Q{} : '.format(k) + kgi.text\n",
    "    k +=1\n",
    "\n",
    "    \n",
    "k=1    \n",
    "for kgi2 in div2:\n",
    "    print 'A{} : '.format(k)\n",
    "    print kgi2.text.strip()\n",
    "    k +=1"
   ]
  },
  {
   "cell_type": "code",
   "execution_count": 52,
   "metadata": {
    "collapsed": true
   },
   "outputs": [
    {
     "name": "stdout",
     "output_type": "stream",
     "text": [
      "Q1 : 消費扣款功能介紹\n",
      "Q2 : 常見問題Q&A\n",
      "A1 : \n",
      "消費扣款是一種透過晶片金融卡直接支付貨款的工具，只要使用晶片金融卡消費扣款功能，就可以直接由存摺帳戶扣款支付，不但不需要支付手續費，還能有效控管個人消費，安全又方便！\n",
      "A2 : \n",
      "Ｑ：什麼是晶片金融卡消費扣款功能？ Ａ：利用晶片金融卡消費扣款服務，即可直接於特店透過電子方式消費，您只要結帳時將晶片金融 　　卡插入POS機並鍵入您的取款密碼，經驗證無誤後即可直接自帳戶中扣款，不用提領現金、不 　　用支付手續費、還可記錄每一筆消費，安全又方便。  Ｑ：我的金融卡有消費扣款功能嗎？ Ａ：您在開戶或申請金融卡時，申請書上即可讓您選擇是否開啟「消費扣款」功能。若您的金融卡 　　是於95年9月前申請，則本行已自動啟用您的「消費扣款」功能。若您無法確定是否已具備 　　「消費扣款」功能，您可直接致電您的開戶行詢問。 Ｑ：哪裡可以用晶片金融卡「消費扣款」付款？ Ａ：只要看到特店外頭有貼著SmartPay Logo的貼紙(圖樣如右)，即可透過提供「 　　消費扣款」功能來支付。 Ｑ：如果我忘記密碼了或連續輸入三次錯誤被鎖卡怎麼辦？ Ａ：為保障您的交易安全，使用「消費扣款」消費時需驗證您的晶片卡密碼(6~12位數密碼)，若您 　　忘記密碼，或因密碼輸入三次錯誤導致晶片卡被鎖住，則需請您本人攜帶雙證件及原留印鑑至 　　各營業單位辦理密碼重置。  Ｑ：使用「消費扣款」功能付款，有沒有收據？ Ａ：有，交易完成後店員會交付本次消費的收據，且為保障您個人資料安全，收據上並不會有您的 　　隱密性資料，包括帳號、餘額等。 Ｑ：我可以在網路上使用「消費扣款」功能嗎？ Ａ：可以，只要您備有晶片讀卡機，即可在提供「消費扣款」服務的網路商家進行消費。「消費扣 　　款」交易流程與網路ATM的操作方式幾乎一樣，但「消費扣款」服務是不需支付手續費用的。  更多Q&A請上財金公司「消費扣款答客問」\n"
     ]
    }
   ],
   "source": [
    "#金融卡消費扣款專區\n",
    "\n",
    "import requests\n",
    "from bs4 import BeautifulSoup\n",
    "url = 'https://www.kgibank.com/T02/T0211/T0211_0001'\n",
    "res = requests.get(url)\n",
    "soup = BeautifulSoup(res.text)\n",
    "\n",
    "#print soup\n",
    "div = soup.select('.text_title')\n",
    "#print div\n",
    "div2 = soup.select('.text_01')\n",
    "\n",
    "k=1\n",
    "for kgi in div:\n",
    "    print 'Q{} : '.format(k) + kgi.text\n",
    "    k +=1\n",
    "\n",
    "    \n",
    "k=1    \n",
    "for kgi2 in div2:\n",
    "    print 'A{} : '.format(k)\n",
    "    print kgi2.text.strip()\n",
    "    k +=1"
   ]
  },
  {
   "cell_type": "code",
   "execution_count": 55,
   "metadata": {
    "collapsed": false
   },
   "outputs": [
    {
     "name": "stdout",
     "output_type": "stream",
     "text": [
      "Q1 : 申請個人信用貸款資格?\n",
      "Q2 : 申請個人信貸需要準備哪些資料？\n",
      "A1 : \n",
      "年齡需在20歲(含)以上55歲(含)以下，年收入達25萬以上之本國國民即可申請\n",
      "A2 : \n",
      "僅需準備身分證、工作證明（勞保卡或在職證明或識別證）、收入證明（薪轉、扣繳憑單、薪資轉帳存摺或明細）即可申請。\n"
     ]
    }
   ],
   "source": [
    "#個人信用貸款\n",
    "\n",
    "import requests\n",
    "from bs4 import BeautifulSoup\n",
    "url = 'https://www.kgibank.com/T03/T0304/T0304_0002.html'\n",
    "res = requests.get(url)\n",
    "soup = BeautifulSoup(res.text)\n",
    "\n",
    "#print soup\n",
    "div = soup.select('.text_title')\n",
    "#print div\n",
    "div2 = soup.select('.text_01')\n",
    "\n",
    "k=1\n",
    "for kgi in div:\n",
    "    print 'Q{} : '.format(k) + kgi.text\n",
    "    k +=1\n",
    "\n",
    "    \n",
    "k=1    \n",
    "for kgi2 in div2:\n",
    "    print 'A{} : '.format(k)\n",
    "    print kgi2.text.strip()\n",
    "    k +=1"
   ]
  },
  {
   "cell_type": "code",
   "execution_count": 56,
   "metadata": {
    "collapsed": false
   },
   "outputs": [
    {
     "name": "stdout",
     "output_type": "stream",
     "text": [
      "A1 : \n",
      "只要貴公司為依法登記，獨立經營之獨資、合夥或公司組織企業皆可申請。\n",
      "A2 : \n",
      "請準備下列資料：1. 公司設立/變更事項登記卡、公司章程、股東名冊。2. 最近三年營利事業所得稅結算申報書、最近一年營業人銷售額與稅額申報書(401表、403表)、　 最近期日之自編暫結報表（資產負債表、損益表）。3. 負責人及連保人雙證件、公司及個人資料表(由本行提供) 4. 須另外提供之資料由本行專員評估後徵提。\n",
      "A3 : \n",
      "請洽詢凱基銀行全國各分行辦理，將由專人為您服務。\n"
     ]
    }
   ],
   "source": [
    "#中小企業貸款\n",
    "\n",
    "import requests\n",
    "from bs4 import BeautifulSoup\n",
    "url = 'https://www.kgibank.com/T03/T0307/T030705/T030705_0001.html'\n",
    "res = requests.get(url)\n",
    "soup = BeautifulSoup(res.text)\n",
    "\n",
    "#print soup\n",
    "div = soup.select('.text_title')\n",
    "#print div\n",
    "div2 = soup.select('.text_01')\n",
    "\n",
    "k=1\n",
    "for kgi in div:\n",
    "    print 'Q{} : '.format(k) + kgi.text\n",
    "    k +=1\n",
    "\n",
    "    \n",
    "k=1    \n",
    "for kgi2 in div2:\n",
    "    print 'A{} : '.format(k)\n",
    "    print kgi2.text.strip()\n",
    "    k +=1"
   ]
  },
  {
   "cell_type": "code",
   "execution_count": null,
   "metadata": {
    "collapsed": true
   },
   "outputs": [],
   "source": []
  }
 ],
 "metadata": {
  "kernelspec": {
   "display_name": "Python 2",
   "language": "python",
   "name": "python2"
  },
  "language_info": {
   "codemirror_mode": {
    "name": "ipython",
    "version": 2
   },
   "file_extension": ".py",
   "mimetype": "text/x-python",
   "name": "python",
   "nbconvert_exporter": "python",
   "pygments_lexer": "ipython2",
   "version": "2.7.11"
  }
 },
 "nbformat": 4,
 "nbformat_minor": 0
}
