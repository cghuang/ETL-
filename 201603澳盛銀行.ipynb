{
 "cells": [
  {
   "cell_type": "code",
   "execution_count": 3,
   "metadata": {
    "collapsed": false
   },
   "outputs": [
    {
     "name": "stdout",
     "output_type": "stream",
     "text": [
      "Q1 : 密碼應如何變更？\n",
      "Q2 : 晶片金融卡可以在國外使用嗎？\n",
      "Q3 : 忘記密碼、或輸入錯誤密碼連續3次被鎖卡時，應如何處理？\n",
      "Q4 : 晶片金融卡如不慎遺失，應如何處理？\n",
      "A1 : \n",
      "密碼變更的方式如下：\r\n",
      "                  \n",
      "晶片密碼 (6-12碼)，您可於國內任一有晶片金融卡服務的自動櫃員機更改密碼；密碼長度可自行設定為6-12位之數字。\n",
      "磁條密碼 (4碼)，必須親至全省各分行櫃檯或自動櫃員機更改。\n",
      "A2 : \n",
      "可以。但請記得使用4位數磁條密碼而非晶片密碼。若您忘記磁條密碼，請持卡及原留印鑑親至全省分行重新申請補發。\n",
      "A3 : \n",
      "若您輸入密碼錯誤達三次或不慎遺忘密碼，您的金融卡將被鎖卡無法使用。請記得取回您的卡片並攜帶原留印鑑親至各分行重設密碼。\n",
      "A4 : \n",
      "由於金融卡及密碼均由持卡人持有與保管，且密碼是私人之隱密資料，持卡人應善盡保護職責。為確保帳戶安全，您的金融卡若不慎遺失或被竊，請立即聯繫電話理財服務中心(02)2778-9999，辦理卡片掛失停用並攜帶原留印鑑親至全省分行重新申請補發新卡。補發新卡酌收手續費新臺幣100元。在此提醒您，切勿將卡片及密碼存放在同一處所或交由第三者使用。\n"
     ]
    }
   ],
   "source": [
    "#晶片國際金融卡\n",
    "\n",
    "import requests\n",
    "from bs4 import BeautifulSoup\n",
    "url = 'https://anz.tw/zh/personal/deposits/deposits-account-6.jsp'\n",
    "res = requests.get(url)\n",
    "soup = BeautifulSoup(res.text)\n",
    "\n",
    "#print soup\n",
    "div = soup.select('.invest_news')\n",
    "#print div\n",
    "div2 = soup.select('.invest_news_cont.pl20')\n",
    "\n",
    "k=1\n",
    "for anz in div:\n",
    "    print 'Q{} : '.format(k) + anz.text.strip()\n",
    "    k +=1\n",
    "\n",
    "    \n",
    "k=1    \n",
    "for anz2 in div2:\n",
    "    print 'A{} : '.format(k)\n",
    "    print anz2.text.strip()\n",
    "    k +=1"
   ]
  },
  {
   "cell_type": "code",
   "execution_count": null,
   "metadata": {
    "collapsed": true
   },
   "outputs": [],
   "source": []
  }
 ],
 "metadata": {
  "kernelspec": {
   "display_name": "Python 2",
   "language": "python",
   "name": "python2"
  },
  "language_info": {
   "codemirror_mode": {
    "name": "ipython",
    "version": 2
   },
   "file_extension": ".py",
   "mimetype": "text/x-python",
   "name": "python",
   "nbconvert_exporter": "python",
   "pygments_lexer": "ipython2",
   "version": "2.7.11"
  }
 },
 "nbformat": 4,
 "nbformat_minor": 0
}
