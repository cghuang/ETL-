{
 "cells": [
  {
   "cell_type": "markdown",
   "metadata": {},
   "source": [
    "# 一般網路銀行"
   ]
  },
  {
   "cell_type": "code",
   "execution_count": null,
   "metadata": {
    "collapsed": true
   },
   "outputs": [],
   "source": [
    "\n",
    "\n",
    "import requests\n",
    "from bs4 import BeautifulSoup\n",
    "url = 'http://www.landbank.com.tw/webpad/webpad.aspx?EpfJdId9UuBX6UhcgSxwGO8WazIplz7M'\n",
    "res = requests.get(url)\n",
    "soup = BeautifulSoup(res.text)\n",
    "\n",
    "\n",
    "div = soup.select('.title02')\n",
    "\n",
    "div2 = soup.select('.title_com')\n",
    "\n",
    "k=1\n",
    "fortbb in div:\n",
    "    print 'Q{} : '.format(k) + tbb.text.strip()\n",
    "    k +=1\n",
    "\n",
    "    \n",
    "k=1    \n",
    "for tbb2 in div2:\n",
    "    print 'A{} : '.format(k)\n",
    "    print tbb2.text.strip()\n",
    "    k +=1"
   ]
  }
 ],
 "metadata": {
  "kernelspec": {
   "display_name": "Python 2",
   "language": "python",
   "name": "python2"
  },
  "language_info": {
   "codemirror_mode": {
    "name": "ipython",
    "version": 2
   },
   "file_extension": ".py",
   "mimetype": "text/x-python",
   "name": "python",
   "nbconvert_exporter": "python",
   "pygments_lexer": "ipython2",
   "version": "2.7.11"
  }
 },
 "nbformat": 4,
 "nbformat_minor": 0
}
